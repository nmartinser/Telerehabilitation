{
 "cells": [
  {
   "cell_type": "markdown",
   "metadata": {},
   "source": [
    "# Explicación de variables por gesto"
   ]
  },
  {
   "cell_type": "code",
   "execution_count": 19,
   "metadata": {},
   "outputs": [],
   "source": [
    "# importar librerias\n",
    "import pandas as pd\n",
    "import joblib\n",
    "\n",
    "import warnings\n",
    "from sklearn.exceptions import InconsistentVersionWarning\n",
    "\n",
    "# Suppress the specific warning\n",
    "warnings.filterwarnings(\"ignore\", category=InconsistentVersionWarning)\n"
   ]
  },
  {
   "cell_type": "code",
   "execution_count": 20,
   "metadata": {},
   "outputs": [],
   "source": [
    "#---------Importar los datos-----------\n",
    "# Dataframe medidas calculadas por repetición\n",
    "df = pd.read_csv('../Resultados/medidasPerRepetition.csv', dtype=object)\n"
   ]
  },
  {
   "cell_type": "code",
   "execution_count": 21,
   "metadata": {},
   "outputs": [],
   "source": [
    "gestures = df['GestureName'].unique()\n",
    "\n",
    "with open('../Resultados/FS_x_gesture.txt', 'w') as file:\n",
    "    for gesture in gestures:\n",
    "        modelo_gesto_path = f'../Resultados/modelo_{gesture}.sav'\n",
    "        best_pipeline, expected_columns = joblib.load(modelo_gesto_path)\n",
    "\n",
    "        # Step 1: Get feature names from the 'preprocessing' step\n",
    "        preprocessor = best_pipeline.named_steps['preprocessing']\n",
    "\n",
    "        # Extract the feature names after preprocessing (OrdinalEncoder + remainder columns)\n",
    "        feature_names = preprocessor.get_feature_names_out()\n",
    "\n",
    "        # Step 2: Access the SelectKBest step and get the selected features\n",
    "        select_kbest = best_pipeline.named_steps['select_features']\n",
    "\n",
    "        # Get the boolean mask for the selected features\n",
    "        selected_features_mask = select_kbest.get_support()\n",
    "\n",
    "        # Use the mask to extract the selected feature names\n",
    "        selected_features = feature_names[selected_features_mask]\n",
    "        selected_features = [name.replace('remainder__', '') for name in selected_features]\n",
    "\n",
    "\n",
    "        file.write(f'\\n------------ VARIABLES GESTO {gesture} -----------\\n')\n",
    "\n",
    "        for row in selected_features:\n",
    "            file.write(''.join(map(str, row)) + '\\n')\n",
    "\n",
    "\n"
   ]
  }
 ],
 "metadata": {
  "kernelspec": {
   "display_name": "Python 3",
   "language": "python",
   "name": "python3"
  },
  "language_info": {
   "codemirror_mode": {
    "name": "ipython",
    "version": 3
   },
   "file_extension": ".py",
   "mimetype": "text/x-python",
   "name": "python",
   "nbconvert_exporter": "python",
   "pygments_lexer": "ipython3",
   "version": "3.11.9"
  }
 },
 "nbformat": 4,
 "nbformat_minor": 2
}
