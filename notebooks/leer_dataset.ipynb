{
 "cells": [
  {
   "cell_type": "markdown",
   "metadata": {},
   "source": [
    "# Notebook para leer los txt"
   ]
  },
  {
   "cell_type": "markdown",
   "metadata": {},
   "source": [
    "## 1. Raw Data Folder"
   ]
  },
  {
   "cell_type": "markdown",
   "metadata": {},
   "source": [
    "* 30 participantes (14 sanos y 16 pacientes)\n",
    "* 9 ejercicios\n",
    "* x6 repeticiones\n",
    "* 30 fps\n",
    "* 2598 videos"
   ]
  },
  {
   "cell_type": "code",
   "execution_count": 1,
   "metadata": {},
   "outputs": [],
   "source": [
    "# importar librerias necesarias\n",
    "import pandas as pd # para manejar dataframes\n",
    "import os # para interactur con el sistema operativo"
   ]
  },
  {
   "cell_type": "markdown",
   "metadata": {},
   "source": [
    "### 1.1 Datos de los nombres de los archivos"
   ]
  },
  {
   "cell_type": "markdown",
   "metadata": {},
   "source": [
    "SubjectID_DateID_GestureLabel_RepetitionNumber_CorrectLabel_Position.txt\n",
    "\n",
    "* SubjectID: id uniquely identifying the person performing the exercise\n",
    "* DateID: id identifying the session in which the person was recorded\n",
    "* GestureLabel: Label identifying the gesture; possible values are from 0 to 8\n",
    "* RepetitionNumber: Each gesture was repeated several times and this shows the repetition number\n",
    "* CorrectLabel: A value of 1 represents a gesture labeled as being correctly executed, while a value of 2 is for a gesture labeled as incorrect\n",
    "* Position: Some of the persons performed the gestures sitting on a chair or wheelchair, while others standing"
   ]
  },
  {
   "cell_type": "code",
   "execution_count": 2,
   "metadata": {},
   "outputs": [],
   "source": [
    "# función para guardar en el dataframe los datos que aparecen en los nombre de los archivos\n",
    "def leer_nombre_archivo(archivo):\n",
    "    archivo = archivo.split('.')[0] # quita la extension txt\n",
    "    return archivo.split('_') # separa los campos por _"
   ]
  },
  {
   "cell_type": "markdown",
   "metadata": {},
   "source": [
    "### 1.2 Datos de los archivos\n",
    "Each raw data file contains per line: timestamp, XX, XX, followed by a 25 pairs of (JointName, TrackedStatus, 3d coordinate X, 3d coordinate Y, 3d coordinate Z, 2d coordinate X, 2d coordinate Y)"
   ]
  },
  {
   "cell_type": "code",
   "execution_count": 3,
   "metadata": {},
   "outputs": [],
   "source": [
    "directory = '../dataset/SkeletonData/RawData'\n",
    "file_list = os.listdir(directory) # crea una lista con los nombre de los arhivos"
   ]
  },
  {
   "cell_type": "code",
   "execution_count": 4,
   "metadata": {},
   "outputs": [],
   "source": [
    "# Initialize an empty list to store the extracted data\n",
    "list_data = []\n",
    "\n",
    "# Iterate through each raw data file\n",
    "for file_name in file_list:\n",
    "    campos = leer_nombre_archivo(file_name)\n",
    "\n",
    "    with open(os.path.join(directory, file_name), 'r') as file:\n",
    "        for line in file:\n",
    "            # Split the line by comma and extract the required information\n",
    "            line_data = line.strip().split(',')[3:]  # Skip the initial timestamp and other unwanted data\n",
    "            cleaned_data = [item.replace('(', '').replace(')', '') for item in line_data]\n",
    "            for i in range(0, len(cleaned_data), 7):\n",
    "                #list_data.append(campos)\n",
    "                list_data.append(campos + cleaned_data[i:i + 7])\n",
    "\n",
    "columnas = ['SubjectID', 'DateID', 'GestureLabel', 'RepetitionNumber', 'CorrectLabel', 'Position',\n",
    "            'JointName', 'TrackedStatus', '3D_X', '3D_Y', '3D_Z', '2D_X', '2D_Y']\n",
    "\n",
    "df_data = pd.DataFrame(list_data, columns=columnas)\n"
   ]
  },
  {
   "cell_type": "code",
   "execution_count": 5,
   "metadata": {},
   "outputs": [],
   "source": [
    "df_data.to_csv('../csvFiles/raw_pacientes.csv', index=False)"
   ]
  },
  {
   "cell_type": "code",
   "execution_count": 6,
   "metadata": {},
   "outputs": [
    {
     "data": {
      "text/html": [
       "<div>\n",
       "<style scoped>\n",
       "    .dataframe tbody tr th:only-of-type {\n",
       "        vertical-align: middle;\n",
       "    }\n",
       "\n",
       "    .dataframe tbody tr th {\n",
       "        vertical-align: top;\n",
       "    }\n",
       "\n",
       "    .dataframe thead th {\n",
       "        text-align: right;\n",
       "    }\n",
       "</style>\n",
       "<table border=\"1\" class=\"dataframe\">\n",
       "  <thead>\n",
       "    <tr style=\"text-align: right;\">\n",
       "      <th></th>\n",
       "      <th>SubjectID</th>\n",
       "      <th>DateID</th>\n",
       "      <th>GestureLabel</th>\n",
       "      <th>RepetitionNumber</th>\n",
       "      <th>CorrectLabel</th>\n",
       "      <th>Position</th>\n",
       "      <th>JointName</th>\n",
       "      <th>TrackedStatus</th>\n",
       "      <th>3D_X</th>\n",
       "      <th>3D_Y</th>\n",
       "      <th>3D_Z</th>\n",
       "      <th>2D_X</th>\n",
       "      <th>2D_Y</th>\n",
       "    </tr>\n",
       "  </thead>\n",
       "  <tbody>\n",
       "    <tr>\n",
       "      <th>0</th>\n",
       "      <td>101</td>\n",
       "      <td>18</td>\n",
       "      <td>0</td>\n",
       "      <td>1</td>\n",
       "      <td>1</td>\n",
       "      <td>stand</td>\n",
       "      <td>SpineBase</td>\n",
       "      <td>Tracked</td>\n",
       "      <td>-0.1028086</td>\n",
       "      <td>0.06965441</td>\n",
       "      <td>2.464606</td>\n",
       "      <td>243.133</td>\n",
       "      <td>196.5854</td>\n",
       "    </tr>\n",
       "    <tr>\n",
       "      <th>1</th>\n",
       "      <td>101</td>\n",
       "      <td>18</td>\n",
       "      <td>0</td>\n",
       "      <td>1</td>\n",
       "      <td>1</td>\n",
       "      <td>stand</td>\n",
       "      <td>SpineMid</td>\n",
       "      <td>Tracked</td>\n",
       "      <td>-0.1026228</td>\n",
       "      <td>0.3837799</td>\n",
       "      <td>2.438919</td>\n",
       "      <td>242.971</td>\n",
       "      <td>149.1077</td>\n",
       "    </tr>\n",
       "    <tr>\n",
       "      <th>2</th>\n",
       "      <td>101</td>\n",
       "      <td>18</td>\n",
       "      <td>0</td>\n",
       "      <td>1</td>\n",
       "      <td>1</td>\n",
       "      <td>stand</td>\n",
       "      <td>Neck</td>\n",
       "      <td>Tracked</td>\n",
       "      <td>-0.1025293</td>\n",
       "      <td>0.6877351</td>\n",
       "      <td>2.40196</td>\n",
       "      <td>242.6967</td>\n",
       "      <td>101.3569</td>\n",
       "    </tr>\n",
       "    <tr>\n",
       "      <th>3</th>\n",
       "      <td>101</td>\n",
       "      <td>18</td>\n",
       "      <td>0</td>\n",
       "      <td>1</td>\n",
       "      <td>1</td>\n",
       "      <td>stand</td>\n",
       "      <td>Head</td>\n",
       "      <td>Tracked</td>\n",
       "      <td>-0.1190992</td>\n",
       "      <td>0.8358598</td>\n",
       "      <td>2.373549</td>\n",
       "      <td>239.9086</td>\n",
       "      <td>76.90204</td>\n",
       "    </tr>\n",
       "    <tr>\n",
       "      <th>4</th>\n",
       "      <td>101</td>\n",
       "      <td>18</td>\n",
       "      <td>0</td>\n",
       "      <td>1</td>\n",
       "      <td>1</td>\n",
       "      <td>stand</td>\n",
       "      <td>ShoulderLeft</td>\n",
       "      <td>Tracked</td>\n",
       "      <td>-0.2826451</td>\n",
       "      <td>0.5525576</td>\n",
       "      <td>2.38421</td>\n",
       "      <td>214.7496</td>\n",
       "      <td>121.544</td>\n",
       "    </tr>\n",
       "  </tbody>\n",
       "</table>\n",
       "</div>"
      ],
      "text/plain": [
       "  SubjectID DateID GestureLabel RepetitionNumber CorrectLabel Position  \\\n",
       "0       101     18            0                1            1    stand   \n",
       "1       101     18            0                1            1    stand   \n",
       "2       101     18            0                1            1    stand   \n",
       "3       101     18            0                1            1    stand   \n",
       "4       101     18            0                1            1    stand   \n",
       "\n",
       "      JointName TrackedStatus        3D_X        3D_Y      3D_Z      2D_X  \\\n",
       "0     SpineBase       Tracked  -0.1028086  0.06965441  2.464606   243.133   \n",
       "1      SpineMid       Tracked  -0.1026228   0.3837799  2.438919   242.971   \n",
       "2          Neck       Tracked  -0.1025293   0.6877351   2.40196  242.6967   \n",
       "3          Head       Tracked  -0.1190992   0.8358598  2.373549  239.9086   \n",
       "4  ShoulderLeft       Tracked  -0.2826451   0.5525576   2.38421  214.7496   \n",
       "\n",
       "       2D_Y  \n",
       "0  196.5854  \n",
       "1  149.1077  \n",
       "2  101.3569  \n",
       "3  76.90204  \n",
       "4   121.544  "
      ]
     },
     "execution_count": 6,
     "metadata": {},
     "output_type": "execute_result"
    }
   ],
   "source": [
    "df_data.head()"
   ]
  }
 ],
 "metadata": {
  "kernelspec": {
   "display_name": "Python 3",
   "language": "python",
   "name": "python3"
  },
  "language_info": {
   "codemirror_mode": {
    "name": "ipython",
    "version": 3
   },
   "file_extension": ".py",
   "mimetype": "text/x-python",
   "name": "python",
   "nbconvert_exporter": "python",
   "pygments_lexer": "ipython3",
   "version": "3.11.9"
  }
 },
 "nbformat": 4,
 "nbformat_minor": 2
}
