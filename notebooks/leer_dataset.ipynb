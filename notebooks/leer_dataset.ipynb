{
 "cells": [
  {
   "cell_type": "markdown",
   "metadata": {},
   "source": [
    "# Notebook para leer los txt"
   ]
  },
  {
   "cell_type": "markdown",
   "metadata": {},
   "source": [
    "## 1. Raw Data Folder"
   ]
  },
  {
   "cell_type": "markdown",
   "metadata": {},
   "source": [
    "* 30 participantes (14 sanos y 16 pacientes)\n",
    "* 9 ejercicios\n",
    "* x6 repeticiones\n",
    "* 30 fps\n",
    "* 2598 videos"
   ]
  },
  {
   "cell_type": "code",
   "execution_count": 1,
   "metadata": {},
   "outputs": [],
   "source": [
    "# importar librerias necesarias\n",
    "import pandas as pd # para manejar dataframes\n",
    "import os # para interactur con el sistema operativo"
   ]
  },
  {
   "cell_type": "markdown",
   "metadata": {},
   "source": [
    "### 1.1 Datos de los nombres de los archivos"
   ]
  },
  {
   "cell_type": "markdown",
   "metadata": {},
   "source": [
    "SubjectID_DateID_GestureLabel_RepetitionNumber_CorrectLabel_Position.txt\n",
    "\n",
    "* SubjectID: id uniquely identifying the person performing the exercise\n",
    "* DateID: id identifying the session in which the person was recorded\n",
    "* GestureLabel: Label identifying the gesture; possible values are from 0 to 8\n",
    "* RepetitionNumber: Each gesture was repeated several times and this shows the repetition number\n",
    "* CorrectLabel: A value of 1 represents a gesture labeled as being correctly executed, while a value of 2 is for a gesture labeled as incorrect\n",
    "* Position: Some of the persons performed the gestures sitting on a chair or wheelchair, while others standing"
   ]
  },
  {
   "cell_type": "code",
   "execution_count": 2,
   "metadata": {},
   "outputs": [],
   "source": [
    "# función para guardar en el dataframe los datos que aparecen en los nombre de los archivos\n",
    "def leer_nombre_archivo(archivo):\n",
    "    archivo = archivo.split('.')[0] # quita la extension txt\n",
    "    return archivo.split('_') # separa los campos por _"
   ]
  },
  {
   "cell_type": "markdown",
   "metadata": {},
   "source": [
    "### 1.2 Datos de los archivos\n",
    "Each raw data file contains per line: timestamp, XX, XX, followed by a 25 pairs of (JointName, TrackedStatus, 3d coordinate X, 3d coordinate Y, 3d coordinate Z, 2d coordinate X, 2d coordinate Y)"
   ]
  },
  {
   "cell_type": "code",
   "execution_count": 3,
   "metadata": {},
   "outputs": [],
   "source": [
    "directory = '../dataset/SkeletonData/RawData'\n",
    "file_list = os.listdir(directory) # crea una lista con los nombre de los arhivos"
   ]
  },
  {
   "cell_type": "code",
   "execution_count": 4,
   "metadata": {},
   "outputs": [],
   "source": [
    "# Initialize an empty list to store the extracted data\n",
    "list_data = []\n",
    "\n",
    "# Iterate through each raw data file\n",
    "for file_name in file_list:\n",
    "    campos = leer_nombre_archivo(file_name)\n",
    "\n",
    "    with open(os.path.join(directory, file_name), 'r') as file:\n",
    "        for line in file:\n",
    "            # Split the line by comma and extract the required information\n",
    "            line_data = line.strip().split(',')[3:]  # Skip the initial timestamp and other unwanted data\n",
    "            cleaned_data = [item.replace('(', '').replace(')', '') for item in line_data]\n",
    "            for i in range(0, len(cleaned_data), 7):\n",
    "                #list_data.append(campos)\n",
    "                list_data.append(campos + cleaned_data[i:i + 7])\n",
    "\n",
    "columnas = ['SubjectID', 'DateID', 'GestureLabel', 'RepetitionNumber', 'CorrectLabel', 'Position',\n",
    "            'JointName', 'TrackedStatus', '3D_X', '3D_Y', '3D_Z', '2D_X', '2D_Y']\n",
    "\n",
    "df_data = pd.DataFrame(list_data, columns=columnas)\n"
   ]
  },
  {
   "cell_type": "code",
   "execution_count": 5,
   "metadata": {},
   "outputs": [],
   "source": [
    "df_data.to_csv('../csvFiles/raw_pacientes.csv', index=False)"
   ]
  },
  {
   "cell_type": "markdown",
   "metadata": {},
   "source": [
    "## 2. Visualizaciones"
   ]
  },
  {
   "cell_type": "code",
   "execution_count": 6,
   "metadata": {},
   "outputs": [],
   "source": [
    "# dataset paciente 106\n"
   ]
  },
  {
   "cell_type": "code",
   "execution_count": null,
   "metadata": {},
   "outputs": [],
   "source": []
  }
 ],
 "metadata": {
  "kernelspec": {
   "display_name": "Python 3",
   "language": "python",
   "name": "python3"
  },
  "language_info": {
   "codemirror_mode": {
    "name": "ipython",
    "version": 3
   },
   "file_extension": ".py",
   "mimetype": "text/x-python",
   "name": "python",
   "nbconvert_exporter": "python",
   "pygments_lexer": "ipython3",
   "version": "3.11.8"
  }
 },
 "nbformat": 4,
 "nbformat_minor": 2
}
