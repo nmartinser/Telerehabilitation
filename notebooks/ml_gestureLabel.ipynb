{
 "cells": [
  {
   "cell_type": "markdown",
   "metadata": {},
   "source": [
    "# ML para predecir el gesto\n",
    "\n",
    "Creación y evaluación de modelos de Machine Learning para predecir qué gesto está realizando el paciente"
   ]
  },
  {
   "cell_type": "code",
   "execution_count": 1,
   "metadata": {},
   "outputs": [],
   "source": [
    "# ---------- importar librerías---------\n",
    "# Manipular los datos\n",
    "import pandas as pd\n",
    "import numpy as np\n",
    "\n",
    "# Gráficas\n",
    "import matplotlib.pyplot as plt\n",
    "import seaborn as sns\n",
    "plt.style.use('ggplot')\n",
    "sns.set_theme(style=\"darkgrid\")\n",
    "\n",
    "# scikit-learn (ML en python)\n",
    "## Procesar el dataset\n",
    "from sklearn.preprocessing import OrdinalEncoder\n",
    "from sklearn.model_selection import train_test_split\n",
    "## Modelos ML\n",
    "from sklearn.neighbors import KNeighborsClassifier\n",
    "from sklearn.tree import DecisionTreeClassifier\n",
    "from sklearn.naive_bayes import GaussianNB\n",
    "from sklearn.svm import SVC\n",
    "from sklearn.ensemble import RandomForestClassifier\n",
    "## Evaluación de los modelos\n",
    "from sklearn.metrics import *\n",
    "from sklearn.model_selection import cross_val_score\n",
    "## Hiperparametrizacion\n",
    "from sklearn.model_selection import GridSearchCV\n",
    "from sklearn.model_selection import RandomizedSearchCV\n",
    "from sklearn.model_selection import RepeatedStratifiedKFold\n",
    "\n",
    "## Seleccion de variables\n",
    "from sklearn.feature_selection import SelectKBest, chi2\n",
    "from sklearn.feature_selection import RFECV # recursive\n",
    "\n",
    "# Para ignorar los FutureWarning\n",
    "import warnings\n",
    "warnings.simplefilter(action = 'ignore', category = FutureWarning)"
   ]
  },
  {
   "cell_type": "code",
   "execution_count": 2,
   "metadata": {},
   "outputs": [
    {
     "data": {
      "text/html": [
       "<div>\n",
       "<style scoped>\n",
       "    .dataframe tbody tr th:only-of-type {\n",
       "        vertical-align: middle;\n",
       "    }\n",
       "\n",
       "    .dataframe tbody tr th {\n",
       "        vertical-align: top;\n",
       "    }\n",
       "\n",
       "    .dataframe thead th {\n",
       "        text-align: right;\n",
       "    }\n",
       "</style>\n",
       "<table border=\"1\" class=\"dataframe\">\n",
       "  <thead>\n",
       "    <tr style=\"text-align: right;\">\n",
       "      <th></th>\n",
       "      <th>SubjectID</th>\n",
       "      <th>GestureLabel</th>\n",
       "      <th>RepetitionNumber</th>\n",
       "      <th>CorrectLabel</th>\n",
       "      <th>Position</th>\n",
       "      <th>Duration</th>\n",
       "      <th>HipAngleLeft_standardDeviation</th>\n",
       "      <th>RightArmAngle_standardDeviation</th>\n",
       "      <th>KneeAngleLeft_standardDeviation</th>\n",
       "      <th>AnkleAngleLeft_standardDeviation</th>\n",
       "      <th>...</th>\n",
       "      <th>ElbowAngleRight_Kurtosis</th>\n",
       "      <th>LeftArmAngle_Kurtosis</th>\n",
       "      <th>ShoulderAngleRight_Kurtosis</th>\n",
       "      <th>WristAngleLeft_Kurtosis</th>\n",
       "      <th>ElbowAngleLeft_Kurtosis</th>\n",
       "      <th>WristAngleRight_Kurtosis</th>\n",
       "      <th>ShoulderAngleLeft_Kurtosis</th>\n",
       "      <th>HipAngleRight_Kurtosis</th>\n",
       "      <th>ArmsTogetherAngle_Kurtosis</th>\n",
       "      <th>AnkleAngleRight_Kurtosis</th>\n",
       "    </tr>\n",
       "  </thead>\n",
       "  <tbody>\n",
       "    <tr>\n",
       "      <th>0</th>\n",
       "      <td>101</td>\n",
       "      <td>0</td>\n",
       "      <td>1</td>\n",
       "      <td>1</td>\n",
       "      <td>stand</td>\n",
       "      <td>59</td>\n",
       "      <td>0.3608677355979031</td>\n",
       "      <td>2.7655574767746303</td>\n",
       "      <td>0.20870629032593843</td>\n",
       "      <td>0.6581472034160547</td>\n",
       "      <td>...</td>\n",
       "      <td>-1.5096047609935206</td>\n",
       "      <td>0.5374402120462101</td>\n",
       "      <td>0.24725567691914474</td>\n",
       "      <td>-1.1548519667455222</td>\n",
       "      <td>-0.9176895137907444</td>\n",
       "      <td>0.19853266525825441</td>\n",
       "      <td>-0.6351422949522179</td>\n",
       "      <td>-0.9240468871850966</td>\n",
       "      <td>-0.6043028159859238</td>\n",
       "      <td>-0.40440680981149635</td>\n",
       "    </tr>\n",
       "    <tr>\n",
       "      <th>1</th>\n",
       "      <td>101</td>\n",
       "      <td>0</td>\n",
       "      <td>2</td>\n",
       "      <td>1</td>\n",
       "      <td>stand</td>\n",
       "      <td>44</td>\n",
       "      <td>0.11857848631771781</td>\n",
       "      <td>2.2982802008603884</td>\n",
       "      <td>0.22148909073910306</td>\n",
       "      <td>0.8313514219454735</td>\n",
       "      <td>...</td>\n",
       "      <td>-1.280617105642371</td>\n",
       "      <td>0.7268055218978855</td>\n",
       "      <td>-1.7517830977424425</td>\n",
       "      <td>-0.7701703570143632</td>\n",
       "      <td>0.4187723636318532</td>\n",
       "      <td>1.0481449056142007</td>\n",
       "      <td>-0.9030033089456406</td>\n",
       "      <td>-0.19860783889835965</td>\n",
       "      <td>0.8934212147732565</td>\n",
       "      <td>-0.276497605679932</td>\n",
       "    </tr>\n",
       "    <tr>\n",
       "      <th>2</th>\n",
       "      <td>101</td>\n",
       "      <td>0</td>\n",
       "      <td>3</td>\n",
       "      <td>1</td>\n",
       "      <td>stand</td>\n",
       "      <td>53</td>\n",
       "      <td>0.24619052972163322</td>\n",
       "      <td>3.445303563459787</td>\n",
       "      <td>0.20016295285928792</td>\n",
       "      <td>0.9602665690153961</td>\n",
       "      <td>...</td>\n",
       "      <td>-1.4552465068519256</td>\n",
       "      <td>0.1405061114156383</td>\n",
       "      <td>0.7198891878500557</td>\n",
       "      <td>-0.5806536048592652</td>\n",
       "      <td>-0.76127983523148</td>\n",
       "      <td>-0.3931234568509234</td>\n",
       "      <td>0.412760624339358</td>\n",
       "      <td>-1.007601590228747</td>\n",
       "      <td>-0.4138693928861996</td>\n",
       "      <td>-0.5305323879118911</td>\n",
       "    </tr>\n",
       "    <tr>\n",
       "      <th>3</th>\n",
       "      <td>101</td>\n",
       "      <td>0</td>\n",
       "      <td>4</td>\n",
       "      <td>1</td>\n",
       "      <td>stand</td>\n",
       "      <td>57</td>\n",
       "      <td>0.28321350295077613</td>\n",
       "      <td>3.626021938955907</td>\n",
       "      <td>0.3449046585971368</td>\n",
       "      <td>0.5731684465708434</td>\n",
       "      <td>...</td>\n",
       "      <td>-1.51459552588099</td>\n",
       "      <td>1.0602340465863236</td>\n",
       "      <td>0.4958653590427531</td>\n",
       "      <td>-0.13640312363512264</td>\n",
       "      <td>-0.5844906010216535</td>\n",
       "      <td>-0.6109341257432597</td>\n",
       "      <td>-1.3306916169093075</td>\n",
       "      <td>-1.4875437672995169</td>\n",
       "      <td>-1.2588076707533085</td>\n",
       "      <td>-0.057357413926721</td>\n",
       "    </tr>\n",
       "    <tr>\n",
       "      <th>4</th>\n",
       "      <td>101</td>\n",
       "      <td>0</td>\n",
       "      <td>5</td>\n",
       "      <td>1</td>\n",
       "      <td>stand</td>\n",
       "      <td>60</td>\n",
       "      <td>0.39363598833851376</td>\n",
       "      <td>3.767306517718122</td>\n",
       "      <td>0.2176579492233252</td>\n",
       "      <td>0.6589984240898876</td>\n",
       "      <td>...</td>\n",
       "      <td>-1.3601464899179059</td>\n",
       "      <td>-1.527706279445947</td>\n",
       "      <td>0.39390720825161907</td>\n",
       "      <td>-0.42688443195923</td>\n",
       "      <td>-0.5349520236928611</td>\n",
       "      <td>-1.1701446029912246</td>\n",
       "      <td>-0.8445014311637222</td>\n",
       "      <td>-1.4273439546363045</td>\n",
       "      <td>-0.33874666284848587</td>\n",
       "      <td>-0.32227339359147944</td>\n",
       "    </tr>\n",
       "  </tbody>\n",
       "</table>\n",
       "<p>5 rows × 141 columns</p>\n",
       "</div>"
      ],
      "text/plain": [
       "  SubjectID GestureLabel RepetitionNumber CorrectLabel Position Duration  \\\n",
       "0       101            0                1            1    stand       59   \n",
       "1       101            0                2            1    stand       44   \n",
       "2       101            0                3            1    stand       53   \n",
       "3       101            0                4            1    stand       57   \n",
       "4       101            0                5            1    stand       60   \n",
       "\n",
       "  HipAngleLeft_standardDeviation RightArmAngle_standardDeviation  \\\n",
       "0             0.3608677355979031              2.7655574767746303   \n",
       "1            0.11857848631771781              2.2982802008603884   \n",
       "2            0.24619052972163322               3.445303563459787   \n",
       "3            0.28321350295077613               3.626021938955907   \n",
       "4            0.39363598833851376               3.767306517718122   \n",
       "\n",
       "  KneeAngleLeft_standardDeviation AnkleAngleLeft_standardDeviation  ...  \\\n",
       "0             0.20870629032593843               0.6581472034160547  ...   \n",
       "1             0.22148909073910306               0.8313514219454735  ...   \n",
       "2             0.20016295285928792               0.9602665690153961  ...   \n",
       "3              0.3449046585971368               0.5731684465708434  ...   \n",
       "4              0.2176579492233252               0.6589984240898876  ...   \n",
       "\n",
       "  ElbowAngleRight_Kurtosis LeftArmAngle_Kurtosis ShoulderAngleRight_Kurtosis  \\\n",
       "0      -1.5096047609935206    0.5374402120462101         0.24725567691914474   \n",
       "1       -1.280617105642371    0.7268055218978855         -1.7517830977424425   \n",
       "2      -1.4552465068519256    0.1405061114156383          0.7198891878500557   \n",
       "3        -1.51459552588099    1.0602340465863236          0.4958653590427531   \n",
       "4      -1.3601464899179059    -1.527706279445947         0.39390720825161907   \n",
       "\n",
       "  WristAngleLeft_Kurtosis ElbowAngleLeft_Kurtosis WristAngleRight_Kurtosis  \\\n",
       "0     -1.1548519667455222     -0.9176895137907444      0.19853266525825441   \n",
       "1     -0.7701703570143632      0.4187723636318532       1.0481449056142007   \n",
       "2     -0.5806536048592652       -0.76127983523148      -0.3931234568509234   \n",
       "3    -0.13640312363512264     -0.5844906010216535      -0.6109341257432597   \n",
       "4       -0.42688443195923     -0.5349520236928611      -1.1701446029912246   \n",
       "\n",
       "  ShoulderAngleLeft_Kurtosis HipAngleRight_Kurtosis  \\\n",
       "0        -0.6351422949522179    -0.9240468871850966   \n",
       "1        -0.9030033089456406   -0.19860783889835965   \n",
       "2          0.412760624339358     -1.007601590228747   \n",
       "3        -1.3306916169093075    -1.4875437672995169   \n",
       "4        -0.8445014311637222    -1.4273439546363045   \n",
       "\n",
       "  ArmsTogetherAngle_Kurtosis AnkleAngleRight_Kurtosis  \n",
       "0        -0.6043028159859238     -0.40440680981149635  \n",
       "1         0.8934212147732565       -0.276497605679932  \n",
       "2        -0.4138693928861996      -0.5305323879118911  \n",
       "3        -1.2588076707533085       -0.057357413926721  \n",
       "4       -0.33874666284848587     -0.32227339359147944  \n",
       "\n",
       "[5 rows x 141 columns]"
      ]
     },
     "execution_count": 2,
     "metadata": {},
     "output_type": "execute_result"
    }
   ],
   "source": [
    "#---------Importar los datos-----------\n",
    "# Dataframe medidas calculadas por repetición\n",
    "df = pd.read_csv('../csvFiles/medidasPerRepetition.csv', dtype=object) # salida de leer_dataset.ipynb\n",
    "df.head() # visualizacion de la cabecera"
   ]
  },
  {
   "cell_type": "markdown",
   "metadata": {},
   "source": [
    "## 1. Preprocesado"
   ]
  },
  {
   "cell_type": "markdown",
   "metadata": {},
   "source": [
    "### 1.1 Codificar variables"
   ]
  },
  {
   "cell_type": "code",
   "execution_count": 3,
   "metadata": {},
   "outputs": [],
   "source": [
    "# ------Preparar el dataset-------\n",
    "encoder = OrdinalEncoder(categories=[list(set(df[\"Position\"].values))])\n",
    "encoder.fit(df[[\"Position\"]])\n",
    "df[\"Position\"] = encoder.transform(df[[\"Position\"]])\n",
    "\n",
    "# pasar variable obj to numeric\n",
    "df = df.apply(pd.to_numeric, errors='ignore')"
   ]
  },
  {
   "cell_type": "markdown",
   "metadata": {},
   "source": [
    "### 1.2 Dividir el dataset"
   ]
  },
  {
   "cell_type": "code",
   "execution_count": 4,
   "metadata": {},
   "outputs": [],
   "source": [
    "# Dividimos los datos en varibales independientes y en target\n",
    "X = df.drop(['GestureLabel'], axis = 1)\n",
    "y = pd.DataFrame(df['GestureLabel'])\n",
    "\n",
    "# Dividimos en train y test\n",
    "train_X, test_X, train_y, test_y = train_test_split(X, y, test_size=0.3, stratify=y)    \n",
    "\n",
    "# Convertimos los df de target (y) a 1-d\n",
    "train_y = train_y.values.ravel()\n",
    "test_y = test_y.values.ravel()\n"
   ]
  },
  {
   "cell_type": "markdown",
   "metadata": {},
   "source": [
    "## 2. Modelos de ML\n",
    "Se ha creado una función para entrenar y evaluar los modelos"
   ]
  },
  {
   "cell_type": "code",
   "execution_count": 5,
   "metadata": {},
   "outputs": [],
   "source": [
    "#-------Funcion para evaluar los modelos-----------\n",
    "def test_models(modelos, tX, ty):\n",
    "   for modelo in modelos:\n",
    "      prediction = modelo.predict(tX) #  predicciones en los datos de prueba\n",
    "      report = classification_report(ty, prediction, zero_division=0) # informe de evaluación\n",
    "      print(f\"\\nModelo: {modelo.__class__.__name__}\") \n",
    "      print(report) \n"
   ]
  },
  {
   "cell_type": "code",
   "execution_count": 6,
   "metadata": {},
   "outputs": [
    {
     "name": "stdout",
     "output_type": "stream",
     "text": [
      "\n",
      "Modelo: KNeighborsClassifier\n",
      "              precision    recall  f1-score   support\n",
      "\n",
      "           0       0.85      0.92      0.88        77\n",
      "           1       0.90      0.96      0.93        84\n",
      "           2       0.76      0.76      0.76       113\n",
      "           3       0.68      0.70      0.69        96\n",
      "           4       0.75      0.67      0.71        83\n",
      "           5       0.68      0.62      0.65        77\n",
      "           6       0.96      0.91      0.93        78\n",
      "           7       0.89      0.89      0.89        82\n",
      "           8       0.85      0.87      0.86        87\n",
      "\n",
      "    accuracy                           0.81       777\n",
      "   macro avg       0.81      0.81      0.81       777\n",
      "weighted avg       0.81      0.81      0.81       777\n",
      "\n",
      "\n",
      "Modelo: DecisionTreeClassifier\n",
      "              precision    recall  f1-score   support\n",
      "\n",
      "           0       0.93      0.84      0.88        77\n",
      "           1       0.94      0.89      0.91        84\n",
      "           2       0.89      0.95      0.92       113\n",
      "           3       0.79      0.86      0.83        96\n",
      "           4       0.96      0.87      0.91        83\n",
      "           5       0.90      0.84      0.87        77\n",
      "           6       0.83      0.96      0.89        78\n",
      "           7       0.97      0.91      0.94        82\n",
      "           8       0.93      0.94      0.94        87\n",
      "\n",
      "    accuracy                           0.90       777\n",
      "   macro avg       0.91      0.90      0.90       777\n",
      "weighted avg       0.90      0.90      0.90       777\n",
      "\n",
      "\n",
      "Modelo: GaussianNB\n",
      "              precision    recall  f1-score   support\n",
      "\n",
      "           0       0.87      0.88      0.88        77\n",
      "           1       0.91      0.95      0.93        84\n",
      "           2       0.73      0.53      0.62       113\n",
      "           3       0.58      0.27      0.37        96\n",
      "           4       0.60      0.72      0.66        83\n",
      "           5       0.51      0.84      0.63        77\n",
      "           6       0.90      1.00      0.95        78\n",
      "           7       0.88      0.93      0.90        82\n",
      "           8       0.93      0.89      0.91        87\n",
      "\n",
      "    accuracy                           0.76       777\n",
      "   macro avg       0.77      0.78      0.76       777\n",
      "weighted avg       0.76      0.76      0.75       777\n",
      "\n",
      "\n",
      "Modelo: SVC\n",
      "              precision    recall  f1-score   support\n",
      "\n",
      "           0       0.88      0.91      0.89        77\n",
      "           1       0.92      0.95      0.94        84\n",
      "           2       0.76      0.76      0.76       113\n",
      "           3       0.71      0.68      0.69        96\n",
      "           4       0.83      0.63      0.71        83\n",
      "           5       0.68      0.64      0.66        77\n",
      "           6       0.96      0.90      0.93        78\n",
      "           7       0.61      0.87      0.71        82\n",
      "           8       0.84      0.77      0.80        87\n",
      "\n",
      "    accuracy                           0.79       777\n",
      "   macro avg       0.80      0.79      0.79       777\n",
      "weighted avg       0.79      0.79      0.79       777\n",
      "\n",
      "\n",
      "Modelo: RandomForestClassifier\n",
      "              precision    recall  f1-score   support\n",
      "\n",
      "           0       0.96      0.92      0.94        77\n",
      "           1       0.95      0.99      0.97        84\n",
      "           2       0.97      0.97      0.97       113\n",
      "           3       0.89      0.92      0.90        96\n",
      "           4       1.00      0.98      0.99        83\n",
      "           5       1.00      0.88      0.94        77\n",
      "           6       0.91      1.00      0.95        78\n",
      "           7       1.00      0.99      0.99        82\n",
      "           8       0.97      0.98      0.97        87\n",
      "\n",
      "    accuracy                           0.96       777\n",
      "   macro avg       0.96      0.96      0.96       777\n",
      "weighted avg       0.96      0.96      0.96       777\n",
      "\n"
     ]
    }
   ],
   "source": [
    "knn = KNeighborsClassifier() # K-Neighbors classifier\n",
    "dtree = DecisionTreeClassifier() # Decision tree\n",
    "nb = GaussianNB() # Naive Bayes\n",
    "svm = SVC() # Suport Vector Machine\n",
    "rf = RandomForestClassifier()  # Random Forest\n",
    "\n",
    "models = [knn, dtree, nb, svm, rf]\n",
    "\n",
    "for modelo in models:\n",
    "    modelo.fit(train_X, train_y) # entrenamos el modelo\n",
    "    \n",
    "# entrenamiento + evaluación\n",
    "test_models(models, test_X, test_y)"
   ]
  },
  {
   "cell_type": "markdown",
   "metadata": {},
   "source": [
    "En la mayoría de ejecutiones los mejores son **DecisionTreeClassifier**, **KNeighborsClassifier** o **Regresión logistica**"
   ]
  },
  {
   "cell_type": "code",
   "execution_count": 7,
   "metadata": {},
   "outputs": [],
   "source": [
    "#-----------Función matriz de confusión-----\n",
    "def plot_confusion_matrix(modelo, tX, ty):\n",
    "    \"\"\"\n",
    "    Grafica la matriz de confusión para un modelo dado.\n",
    "\n",
    "    Parámetros:\n",
    "    * modelo: El modelo de clasificación entrenado.\n",
    "    * tX: Los datos de prueba.\n",
    "    * ty: Los valores reales del target para los datos de prueba.\n",
    "    \"\"\"\n",
    "\n",
    "    prediction = modelo.predict(tX)\n",
    "    cm = confusion_matrix(ty, prediction)\n",
    "    plt.figure(figsize=(6,4))\n",
    "    sns.heatmap(cm, annot=True, cmap=\"Blues\")\n",
    "    plt.title('Confusion Matrix ' + modelo.__class__.__name__)\n",
    "    plt.show()\n"
   ]
  },
  {
   "cell_type": "code",
   "execution_count": 8,
   "metadata": {},
   "outputs": [
    {
     "data": {
      "image/png": "[encoded data removed]",
      "text/plain": [
       "<Figure size 600x400 with 2 Axes>"
      ]
     },
     "metadata": {},
     "output_type": "display_data"
    },
    {
     "data": {
      "image/png": "[encoded data removed]",
      "text/plain": [
       "<Figure size 600x400 with 2 Axes>"
      ]
     },
     "metadata": {},
     "output_type": "display_data"
    }
   ],
   "source": [
    "# Confusion Matrix para mejores modelos\n",
    "plot_confusion_matrix(rf, test_X, test_y)\n",
    "plot_confusion_matrix(dtree, test_X, test_y)"
   ]
  },
  {
   "cell_type": "markdown",
   "metadata": {},
   "source": [
    "## 3. Hipermetrización"
   ]
  },
  {
   "cell_type": "code",
   "execution_count": 9,
   "metadata": {},
   "outputs": [],
   "source": [
    "#-------------Parametros---------------\n",
    "param_grid_knn = {'n_neighbors': [1, 3, 5, 7, 9]}\n",
    "\n",
    "param_grid_dtree = {\n",
    "    'criterion': ['gini', 'entropy'],\n",
    "    'max_depth': [None, 10, 20, 30, 40, 50]\n",
    "}\n",
    "\n",
    "param_grid_nb = {'var_smoothing': np.logspace(0,-9, num=100)}\n",
    "\n",
    "param_grid_svm = {\n",
    "    'C': [0.1, 1, 10, 100],\n",
    "    'kernel': ['linear', 'rbf', 'poly', 'sigmoid'],\n",
    "    'gamma': ['scale', 'auto']\n",
    "}\n",
    "\n",
    "param_grid_rf = {\n",
    "    'n_estimators': [5, 10, 50, 100],\n",
    "    'criterion': ['gini', 'entropy'],\n",
    "    'max_depth': [None, 10, 20, 30, 40, 50]\n",
    "}\n",
    "\n",
    "param_grid_lr = {\n",
    "    'C': [0.01, 0.1, 1, 10, 100],  # Regularization parameter for LogisticRegression\n",
    "    'penalty': ['l1', 'l2'],  # Penalty term for LogisticRegression\n",
    "    'max_iter': [4000, 4500]  # Maximum number of iterations for LogisticRegression\n",
    "}"
   ]
  },
  {
   "cell_type": "code",
   "execution_count": 10,
   "metadata": {},
   "outputs": [],
   "source": [
    "def aplicar_hiperparametrizacion(X, y):\n",
    "    gs_knn = GridSearchCV(KNeighborsClassifier(), param_grid_knn, cv=5, scoring='accuracy')\n",
    "    gs_dtree = GridSearchCV(DecisionTreeClassifier(), param_grid_dtree, cv=5, scoring='accuracy')\n",
    "    gs_nb = GridSearchCV(GaussianNB(), param_grid_nb, cv=5, scoring='accuracy')\n",
    "    gs_svm = GridSearchCV(SVC(), param_grid_svm, cv=5, scoring='accuracy')\n",
    "    gs_rf = GridSearchCV(RandomForestClassifier(), param_grid_rf, cv=5, scoring='accuracy')\n",
    "\n",
    "\n",
    "    modelos = [gs_knn, gs_dtree, gs_nb, gs_svm, gs_rf]\n",
    "\n",
    "    best_models = []\n",
    "    for modelo in modelos:\n",
    "        modelo.fit(X, y)\n",
    "        print(f\"\\nModelo: {modelo.estimator.__class__.__name__}\") \n",
    "        # print(modelo.cv_results_) \n",
    "        print(\"Best parameters: \", modelo.best_params_)\n",
    "        print(\"Best score: \", modelo.best_score_)\n",
    "        best_models.append(modelo.best_estimator_)\n",
    "    return best_models\n",
    "    "
   ]
  },
  {
   "cell_type": "code",
   "execution_count": 11,
   "metadata": {},
   "outputs": [
    {
     "name": "stdout",
     "output_type": "stream",
     "text": [
      "\n",
      "Modelo: KNeighborsClassifier\n",
      "Best parameters:  {'n_neighbors': 1}\n",
      "Best score:  0.8322055309498806\n",
      "\n",
      "Modelo: DecisionTreeClassifier\n",
      "Best parameters:  {'criterion': 'entropy', 'max_depth': None}\n",
      "Best score:  0.9166552516627856\n",
      "\n",
      "Modelo: GaussianNB\n",
      "Best parameters:  {'var_smoothing': 2.848035868435799e-06}\n",
      "Best score:  0.7671126128182884\n",
      "\n",
      "Modelo: SVC\n",
      "Best parameters:  {'C': 0.1, 'gamma': 'scale', 'kernel': 'linear'}\n",
      "Best score:  0.941488212105992\n"
     ]
    }
   ],
   "source": [
    "best_models = aplicar_hiperparametrizacion(train_X, train_y)"
   ]
  },
  {
   "cell_type": "code",
   "execution_count": null,
   "metadata": {},
   "outputs": [],
   "source": [
    "test_models(best_models, test_X, test_y)"
   ]
  },
  {
   "cell_type": "markdown",
   "metadata": {},
   "source": [
    "## 4. Feature Selection"
   ]
  },
  {
   "cell_type": "markdown",
   "metadata": {},
   "source": [
    "### 4.1 SelectKBest"
   ]
  },
  {
   "cell_type": "code",
   "execution_count": null,
   "metadata": {},
   "outputs": [],
   "source": [
    "# Definimos feature Selection K=50 (selecciona entonces las 50 variables que considere mas importantes)\n",
    "feature_selection=SelectKBest(k=50)\n",
    "\n",
    "# Fit Feature Selection (entrena y hace una tranfosmada)\n",
    "feature_selection.fit_transform(train_X, train_y)\n",
    "\n",
    "# Selecionamos las características mas relevantes para nuestro problema\n",
    "selected = feature_selection.get_support(indices=True)\n",
    "print(train_X.columns[selected])"
   ]
  },
  {
   "cell_type": "markdown",
   "metadata": {},
   "source": [
    "### 4.2 Entrenar con las variables sleccionadas"
   ]
  },
  {
   "cell_type": "code",
   "execution_count": null,
   "metadata": {},
   "outputs": [],
   "source": [
    "# creación de los modelos\n",
    "knn_fs = KNeighborsClassifier() # K-Neighbors classifier\n",
    "dtree_fs = DecisionTreeClassifier() # Decision tree\n",
    "nb_fs = GaussianNB() # Naive Bayes\n",
    "svm_fs = SVC() # Suport Vector Machine\n",
    "rf_fs = RandomForestClassifier()  # Random Forest\n",
    "\n",
    "models_fs = [knn_fs, dtree_fs, nb_fs, svm_fs, rf_fs]\n"
   ]
  },
  {
   "cell_type": "code",
   "execution_count": null,
   "metadata": {},
   "outputs": [],
   "source": [
    "# Reduce train_X to the selected features with .transform(X)\n",
    "#creamos un data frame vacio para hacer una tabla donde esten \n",
    "# las variables con la trsnformada de la X.\n",
    "# esto elimina las variales que no nos intersan.\n",
    "\n",
    "X_fs = pd.DataFrame(feature_selection.transform(train_X),\n",
    "                 columns=train_X.columns[selected])\n",
    "# train -> train and validation\n",
    "\n",
    "for modelo in models_fs:\n",
    "        print(f\"\\nModelo: {modelo.__class__.__name__}\") \n",
    "        scores = cross_val_score(modelo, X_fs, train_y, scoring='accuracy', cv=5)\n",
    "        print(\"%0.2f accuracy with a standard deviation of %0.2f\" % (scores.mean(), scores.std()))\n"
   ]
  },
  {
   "cell_type": "code",
   "execution_count": null,
   "metadata": {},
   "outputs": [],
   "source": [
    "for modelo in best_models:\n",
    "    print(f\"\\nModelo: {modelo.__class__.__name__}\") \n",
    "    scores = cross_val_score(modelo, X_fs, train_y, scoring='accuracy', cv=5)\n",
    "    print(\"%0.2f accuracy with a standard deviation of %0.2f\" % (scores.mean(), scores.std()))\n"
   ]
  },
  {
   "cell_type": "markdown",
   "metadata": {},
   "source": [
    "### 4.3 Recursive feature elimination"
   ]
  },
  {
   "cell_type": "code",
   "execution_count": null,
   "metadata": {},
   "outputs": [],
   "source": [
    "dtree_rfe = DecisionTreeClassifier() # Decision tree\n",
    "rf_rfe = RandomForestClassifier(n_estimators = 5)  # Random Forest\n",
    "\n",
    "models_with_coef = [dtree_rfe, rf_rfe]"
   ]
  },
  {
   "cell_type": "code",
   "execution_count": null,
   "metadata": {},
   "outputs": [],
   "source": [
    "def seleccion_variables(models, X, y):\n",
    "    for model in models:\n",
    "        rfecv = RFECV(\n",
    "            estimator=model,\n",
    "            scoring=\"accuracy\",\n",
    "            n_jobs=2 # Number of cores to run in parallel while fitting across folds. \n",
    "        )\n",
    "        rfecv.fit(X, y)\n",
    "        print(f\"\\nModelo: {rfecv.estimator.__class__.__name__}\") \n",
    "        print(f\"Optimal number of features: {rfecv.n_features_}\")\n",
    "        selected = rfecv.get_feature_names_out()\n",
    "        print(selected)\n",
    "        cv_results = pd.DataFrame(rfecv.cv_results_)\n",
    "        print(\"\\nAccuracy\")\n",
    "        print(cv_results['mean_test_score'])\n",
    "\n",
    "seleccion_variables(models_with_coef, train_X, train_y)"
   ]
  }
 ],
 "metadata": {
  "kernelspec": {
   "display_name": "Python 3",
   "language": "python",
   "name": "python3"
  },
  "language_info": {
   "codemirror_mode": {
    "name": "ipython",
    "version": 3
   },
   "file_extension": ".py",
   "mimetype": "text/x-python",
   "name": "python",
   "nbconvert_exporter": "python",
   "pygments_lexer": "ipython3",
   "version": "3.11.9"
  }
 },
 "nbformat": 4,
 "nbformat_minor": 2
}
